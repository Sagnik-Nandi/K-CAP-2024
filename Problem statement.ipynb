{
 "cells": [
  {
   "cell_type": "markdown",
   "metadata": {
    "id": "dMSDifO8SqLE"
   },
   "source": [
    "# K-CAP Assignment\n",
    "\n",
    "### Below are the instructions for the assignment. Please read and follow them carefully.\n",
    "\n",
    "1.   For doing the K-CAP project it is **mandatory** to complete the K-CAP assignment, based on which selections will be done.\n",
    "1.   There are 3 parts in this assignment and **none** are optional.\n",
    "2.   Answer/code for each question is to be written in the code cell following the question.\n",
    "3.   **Do not** edit this notebook. Make a copy in your drive to solve the assignment.\n",
    "3.   The csv files mentioned in the assignment, ```cepheids.csv``` and ```curves.csv``` can be downloaded and used from this [Drive link](https://drive.google.com/drive/folders/17DkvsU0GVGOnffZCsgkkp5A3SbQRTWQf?usp=sharing).\n",
    "2.   Comment your code wherever needed.\n",
    "3.   The resources that may be required for help and reference are uploaded on this [github repo](https://github.com/krittikaiitb/tutorials).\n",
    "4.   The **deadline** for the assignment submission is **29th November 11.59 pm** and no further extension will be provided.\n",
    "5.   Upload your notebook on Google Colab and share the link in this [google form](https://docs.google.com/forms/d/e/1FAIpQLSewj0UyD1a22d_GKOq-7_i9yWu40Az_x9s-rxJqVF-60_C9CA/viewform?usp=sharing) for submission.\n",
    "6.   Make sure you have given access to submission file before submitting.\n",
    "\n",
    "# All The Best!!"
   ]
  },
  {
   "cell_type": "markdown",
   "metadata": {
    "id": "5ZIW_sqkpEXU"
   },
   "source": [
    "\n",
    "# Cepheid variables\n",
    "\n",
    "Cepheid variables are a type of variable star that pulsate radially, varying in both diameter and temperature, which produces changes in brightness with a well-defined stable period and amplitude. These stars are significant in the field of astronomy for several reasons:\n",
    "\n",
    "1. **Standard Candles**: Cepheids have a well-established relationship between their luminosity and pulsation period, known as the Leavitt law or period-luminosity relation. This makes them excellent standard candles for measuring astronomical distances.\n",
    "\n",
    "2. **Distance Measurement**: By observing the period of a Cepheid's brightness variations, astronomers can determine its absolute magnitude. Comparing this with the apparent magnitude allows for the calculation of the distance to the star, which is crucial for mapping the scale of the universe.\n",
    "\n",
    "3. **Galactic and Extragalactic Studies**: Cepheids are used to measure distances within our galaxy and to nearby galaxies. This helps in understanding the structure and scale of the Milky Way and the local group of galaxies.\n",
    "\n",
    "4. **Historical Importance**: The discovery of Cepheids in the Andromeda galaxy by Edwin Hubble was pivotal in establishing that the universe is expanding, leading to the formulation of the Big Bang theory.\n",
    "\n",
    "Cepheids continue to be a vital tool in modern astrophysics, aiding in the calibration of other distance measurement methods and contributing to our understanding of the cosmos."
   ]
  },
  {
   "cell_type": "markdown",
   "metadata": {
    "id": "P8VTOFpoI41v"
   },
   "source": [
    "# Part 1\n",
    "\n",
    "The mechanism driving the pulsations of Cepheids involves complex interactions between radiation pressure, gas pressure, and opacity within the star's interior. Give a qualitative explanation of the thermal instability that leads to the pulsations in Cepheid variable stars, focusing on the role of the κ-mechanism (opacity mechanism)."
   ]
  },
  {
   "cell_type": "markdown",
   "metadata": {
    "id": "dm1Ied5xSyZ0"
   },
   "source": [
    "Type your answer in this text cell. Double click the cell to edit.  \n",
    "  \n",
    "Here, the Greek letter kappa (κ) is used to indicate the radiative opacity at any particular depth of the stellar atmosphere. In a normal star, an increase in compression of the atmosphere causes an increase in temperature and density; this produces a decrease in the opacity of the atmosphere, allowing energy to escape more rapidly. The result is an equilibrium condition where temperature and pressure are maintained in a balance. However, in cases where the opacity increases with temperature, the atmosphere becomes unstable against pulsations. If a layer of a stellar atmosphere moves inward, it becomes denser and more opaque, causing heat flow to be checked. In return, this heat increase causes a build-up of pressure that pushes the layer back out again. The result is a cyclic process as the layer repeatedly moves inward and then is forced back out again.  \n",
    "Ref: https://en.wikipedia.org/wiki/Kappa%E2%80%93mechanism"
   ]
  },
  {
   "cell_type": "markdown",
   "metadata": {
    "id": "ijKuGxUCpEXW"
   },
   "source": [
    "# Part 2\n",
    "\n",
    "The data in ```cepheids.csv``` is organised in two columns: the period of the cepheid variable and its absolute magnitude calculated from mean luminosity.\n",
    "\n",
    "These two values are actually related by the Leavitt law:\n",
    "$$M = a \\cdot \\log_{10}{P} + b$$\n",
    "\n",
    "First, find the constants $a$ and $b$ in this relation to fit the given data."
   ]
  },
  {
   "cell_type": "code",
   "execution_count": 1,
   "metadata": {},
   "outputs": [],
   "source": [
    "#Load the data\n",
    "import pandas as pd\n",
    "import numpy as np\n",
    "import matplotlib.pyplot as plt\n",
    "import seaborn as sns\n",
    "import warnings\n",
    "warnings.filterwarnings('ignore')\n",
    "\n",
    "data= pd.read_csv(\"./cepheids.csv\")\n",
    "data.describe() \n",
    "\n",
    "# sns.boxplot(data=data)\n",
    "# plt.show()\n",
    "\n",
    "# Remove outliers\n",
    "data1=data[data['M']<-2.2]\n",
    "data1=data1[data1['M']>-3.4]\n",
    "# data1=data\n",
    "\n",
    "X=np.log10(data1['Period']).values.reshape((-1,1))\n",
    "y=np.array(data1['M'])"
   ]
  },
  {
   "cell_type": "code",
   "execution_count": 2,
   "metadata": {
    "id": "JKeLL090pEXX"
   },
   "outputs": [
    {
     "name": "stdout",
     "output_type": "stream",
     "text": [
      "0.36130884445895406\n"
     ]
    }
   ],
   "source": [
    "# Perform least square estimation on cleaned data\n",
    "from sklearn.linear_model import LinearRegression\n",
    "\n",
    "res = LinearRegression().fit(X, y)\n",
    "a=res.coef_\n",
    "b=res.intercept_\n",
    "y_est=res.predict(X) \n",
    "print(res.score(X, y))\n"
   ]
  },
  {
   "cell_type": "markdown",
   "metadata": {
    "id": "Ruby4DqfsBCn"
   },
   "source": [
    "Next, plot the data along with your fitted line to visually verify that you have found the correct constants."
   ]
  },
  {
   "cell_type": "code",
   "execution_count": 3,
   "metadata": {
    "id": "lqYlqsOjpEXZ"
   },
   "outputs": [
    {
     "data": {
      "image/png": "[encoded data removed]",
      "text/plain": [
       "<Figure size 640x480 with 1 Axes>"
      ]
     },
     "metadata": {},
     "output_type": "display_data"
    }
   ],
   "source": [
    "plt.scatter(X, y, label='Data')\n",
    "plt.plot(X, y_est, color='red')\n",
    "plt.xlabel(\"log(P)\")\n",
    "plt.ylabel(\"M\")\n",
    "plt.legend()\n",
    "plt.show()"
   ]
  },
  {
   "cell_type": "markdown",
   "metadata": {
    "id": "cO-VUH8wpEXc"
   },
   "source": [
    "# Part 3\n",
    "\n",
    "Now we are ready to use the result we have obtained from the above markdown to solve the problem.\n",
    "\n",
    "Given in the ```curves.csv``` file is the data of the light curves of many cepheids in the line of sight of a galaxy. The data contains three columns: ID(Unique for every cepheid), JD (the julian date of observation) and the apparent magnitude observed."
   ]
  },
  {
   "cell_type": "markdown",
   "metadata": {
    "id": "MTTC03qQpEXc"
   },
   "source": [
    "First we need to find the period of each cepheid."
   ]
  },
  {
   "cell_type": "code",
   "execution_count": 4,
   "metadata": {
    "id": "cNASTnDzpEXe"
   },
   "outputs": [],
   "source": [
    "# Load the data\n",
    "data2=pd.read_csv(\"curves.csv\")\n",
    "data2['ID'].value_counts()\n",
    "# data2['rate']=np.zeros(len(data2))\n",
    "\n",
    "# for i in range(len(data2)):\n",
    "#     if i==0 or data2['ID'][i]!=data2['ID'][i-1]: \n",
    "#         # print(\"new\\n\")\n",
    "#         data2['rate'][i]=10\n",
    "#     else:\n",
    "#         data2['rate'][i]= (data2['m'][i]-data2['m'][i-1])/(data2['JD'][i]-data2['JD'][i-1]) \n",
    "#         # rate at which brightness change per day\n",
    "\n",
    "data2['rate'] = 10\n",
    "\n",
    "# Identify rows where the ID changes\n",
    "id_change = data2['ID'] != data2['ID'].shift()\n",
    "\n",
    "# Calculate the rate for rows where ID does not change\n",
    "rate_condition = ~id_change\n",
    "data2.loc[rate_condition, 'rate'] = (\n",
    "    (data2.loc[rate_condition, 'm'] - data2.loc[rate_condition, 'm'].shift()) /\n",
    "    (data2.loc[rate_condition, 'JD'] - data2.loc[rate_condition, 'JD'].shift())\n",
    ")"
   ]
  },
  {
   "cell_type": "code",
   "execution_count": 5,
   "metadata": {},
   "outputs": [
    {
     "data": {
      "text/html": [
       "<div>\n",
       "<style scoped>\n",
       "    .dataframe tbody tr th:only-of-type {\n",
       "        vertical-align: middle;\n",
       "    }\n",
       "\n",
       "    .dataframe tbody tr th {\n",
       "        vertical-align: top;\n",
       "    }\n",
       "\n",
       "    .dataframe thead th {\n",
       "        text-align: right;\n",
       "    }\n",
       "</style>\n",
       "<table border=\"1\" class=\"dataframe\">\n",
       "  <thead>\n",
       "    <tr style=\"text-align: right;\">\n",
       "      <th></th>\n",
       "      <th>ID</th>\n",
       "      <th>count</th>\n",
       "      <th>count_zeros</th>\n",
       "      <th>period</th>\n",
       "    </tr>\n",
       "  </thead>\n",
       "  <tbody>\n",
       "    <tr>\n",
       "      <th>0</th>\n",
       "      <td>2434670</td>\n",
       "      <td>208</td>\n",
       "      <td>16</td>\n",
       "      <td>6.500000</td>\n",
       "    </tr>\n",
       "    <tr>\n",
       "      <th>1</th>\n",
       "      <td>2442608</td>\n",
       "      <td>252</td>\n",
       "      <td>13</td>\n",
       "      <td>9.692308</td>\n",
       "    </tr>\n",
       "    <tr>\n",
       "      <th>2</th>\n",
       "      <td>2443943</td>\n",
       "      <td>205</td>\n",
       "      <td>25</td>\n",
       "      <td>4.100000</td>\n",
       "    </tr>\n",
       "    <tr>\n",
       "      <th>3</th>\n",
       "      <td>2446727</td>\n",
       "      <td>179</td>\n",
       "      <td>10</td>\n",
       "      <td>8.950000</td>\n",
       "    </tr>\n",
       "    <tr>\n",
       "      <th>4</th>\n",
       "      <td>2447157</td>\n",
       "      <td>187</td>\n",
       "      <td>17</td>\n",
       "      <td>5.500000</td>\n",
       "    </tr>\n",
       "    <tr>\n",
       "      <th>...</th>\n",
       "      <td>...</td>\n",
       "      <td>...</td>\n",
       "      <td>...</td>\n",
       "      <td>...</td>\n",
       "    </tr>\n",
       "    <tr>\n",
       "      <th>970</th>\n",
       "      <td>832653</td>\n",
       "      <td>318</td>\n",
       "      <td>46</td>\n",
       "      <td>3.456522</td>\n",
       "    </tr>\n",
       "    <tr>\n",
       "      <th>971</th>\n",
       "      <td>2190690</td>\n",
       "      <td>353</td>\n",
       "      <td>86</td>\n",
       "      <td>2.052326</td>\n",
       "    </tr>\n",
       "    <tr>\n",
       "      <th>972</th>\n",
       "      <td>566046</td>\n",
       "      <td>355</td>\n",
       "      <td>62</td>\n",
       "      <td>2.862903</td>\n",
       "    </tr>\n",
       "    <tr>\n",
       "      <th>973</th>\n",
       "      <td>188335</td>\n",
       "      <td>413</td>\n",
       "      <td>87</td>\n",
       "      <td>2.373563</td>\n",
       "    </tr>\n",
       "    <tr>\n",
       "      <th>974</th>\n",
       "      <td>1614138</td>\n",
       "      <td>322</td>\n",
       "      <td>76</td>\n",
       "      <td>2.118421</td>\n",
       "    </tr>\n",
       "  </tbody>\n",
       "</table>\n",
       "<p>975 rows × 4 columns</p>\n",
       "</div>"
      ],
      "text/plain": [
       "          ID  count  count_zeros    period\n",
       "0    2434670    208           16  6.500000\n",
       "1    2442608    252           13  9.692308\n",
       "2    2443943    205           25  4.100000\n",
       "3    2446727    179           10  8.950000\n",
       "4    2447157    187           17  5.500000\n",
       "..       ...    ...          ...       ...\n",
       "970   832653    318           46  3.456522\n",
       "971  2190690    353           86  2.052326\n",
       "972   566046    355           62  2.862903\n",
       "973   188335    413           87  2.373563\n",
       "974  1614138    322           76  2.118421\n",
       "\n",
       "[975 rows x 4 columns]"
      ]
     },
     "execution_count": 5,
     "metadata": {},
     "output_type": "execute_result"
    }
   ],
   "source": [
    "# Group the data by same ID\n",
    "data_grouped=data2['ID'].value_counts(sort=False)\n",
    "data_grouped=pd.DataFrame(data_grouped, columns=['count'])\n",
    "data_grouped.reset_index(inplace=True)\n",
    "\n",
    "# idx=-1\n",
    "# for i in range(len(data2)):\n",
    "#     if i==0 or data2['ID'][i]!=data2['ID'][i-1]:\n",
    "#         idx+=1\n",
    "#     if abs(data2['rate'][i]) < 0.02 :\n",
    "#         data_grouped['count_zeros'][idx]+=1\n",
    "\n",
    "# count number of times rate becomes zero, that is minima or maxima in brightness\n",
    "data2['is_zero_rate'] = (abs(data2['rate']) < 0.02)\n",
    "count_zeros = data2.groupby('ID')['is_zero_rate'].sum().reset_index(name='count_zeros')\n",
    "\n",
    "# Merge the results\n",
    "data_grouped = data2['ID'].value_counts(sort=False).reset_index()\n",
    "data_grouped.columns = ['ID', 'count']\n",
    "data_grouped = data_grouped.merge(count_zeros, on='ID')\n",
    "\n",
    "# In one period, there is one maxima and one minima. So twice the rate becomes zero.\n",
    "# Hence period ~= no. of observations/ 2* (no of times rate becomes zero)\n",
    "data_grouped['period']=data_grouped['count']/(2*data_grouped['count_zeros'])\n",
    "data_grouped"
   ]
  },
  {
   "cell_type": "markdown",
   "metadata": {
    "id": "9lq_leNfpEXg"
   },
   "source": [
    "Next, using the calculated periods, find the absolute magnitude of these stars using the relation you found earlier.\n",
    "\n"
   ]
  },
  {
   "cell_type": "code",
   "execution_count": 6,
   "metadata": {},
   "outputs": [],
   "source": [
    "data_grouped['logP']=np.log10(data_grouped['period'])\n",
    "data_grouped['M']=a*data_grouped['logP']+b"
   ]
  },
  {
   "cell_type": "markdown",
   "metadata": {
    "id": "7nu7k4_3pEXi"
   },
   "source": [
    "Then, using the apparent magnitude data, find the distance to these cepheid variables."
   ]
  },
  {
   "cell_type": "markdown",
   "metadata": {},
   "source": [
    "m - M = -5 + 5 Log (d)   \n",
    "d = 10^(m-M+5)/5"
   ]
  },
  {
   "cell_type": "code",
   "execution_count": 7,
   "metadata": {
    "id": "LBNcBz0spEXi"
   },
   "outputs": [
    {
     "data": {
      "text/html": [
       "<div>\n",
       "<style scoped>\n",
       "    .dataframe tbody tr th:only-of-type {\n",
       "        vertical-align: middle;\n",
       "    }\n",
       "\n",
       "    .dataframe tbody tr th {\n",
       "        vertical-align: top;\n",
       "    }\n",
       "\n",
       "    .dataframe thead th {\n",
       "        text-align: right;\n",
       "    }\n",
       "</style>\n",
       "<table border=\"1\" class=\"dataframe\">\n",
       "  <thead>\n",
       "    <tr style=\"text-align: right;\">\n",
       "      <th></th>\n",
       "      <th>ID</th>\n",
       "      <th>count</th>\n",
       "      <th>count_zeros</th>\n",
       "      <th>period</th>\n",
       "      <th>logP</th>\n",
       "      <th>M</th>\n",
       "      <th>m</th>\n",
       "      <th>d</th>\n",
       "    </tr>\n",
       "  </thead>\n",
       "  <tbody>\n",
       "    <tr>\n",
       "      <th>0</th>\n",
       "      <td>2434670</td>\n",
       "      <td>208</td>\n",
       "      <td>16</td>\n",
       "      <td>6.500000</td>\n",
       "      <td>0.812913</td>\n",
       "      <td>-3.474004</td>\n",
       "      <td>22.073319</td>\n",
       "      <td>1.286662e+06</td>\n",
       "    </tr>\n",
       "    <tr>\n",
       "      <th>1</th>\n",
       "      <td>2442608</td>\n",
       "      <td>252</td>\n",
       "      <td>13</td>\n",
       "      <td>9.692308</td>\n",
       "      <td>0.986427</td>\n",
       "      <td>-3.854174</td>\n",
       "      <td>22.119716</td>\n",
       "      <td>1.565951e+06</td>\n",
       "    </tr>\n",
       "    <tr>\n",
       "      <th>2</th>\n",
       "      <td>2443943</td>\n",
       "      <td>205</td>\n",
       "      <td>25</td>\n",
       "      <td>4.100000</td>\n",
       "      <td>0.612784</td>\n",
       "      <td>-3.035518</td>\n",
       "      <td>21.317328</td>\n",
       "      <td>7.422826e+05</td>\n",
       "    </tr>\n",
       "    <tr>\n",
       "      <th>3</th>\n",
       "      <td>2446727</td>\n",
       "      <td>179</td>\n",
       "      <td>10</td>\n",
       "      <td>8.950000</td>\n",
       "      <td>0.951823</td>\n",
       "      <td>-3.778356</td>\n",
       "      <td>13.865486</td>\n",
       "      <td>3.378847e+04</td>\n",
       "    </tr>\n",
       "    <tr>\n",
       "      <th>4</th>\n",
       "      <td>2447157</td>\n",
       "      <td>187</td>\n",
       "      <td>17</td>\n",
       "      <td>5.500000</td>\n",
       "      <td>0.740363</td>\n",
       "      <td>-3.315044</td>\n",
       "      <td>21.555355</td>\n",
       "      <td>9.420628e+05</td>\n",
       "    </tr>\n",
       "    <tr>\n",
       "      <th>...</th>\n",
       "      <td>...</td>\n",
       "      <td>...</td>\n",
       "      <td>...</td>\n",
       "      <td>...</td>\n",
       "      <td>...</td>\n",
       "      <td>...</td>\n",
       "      <td>...</td>\n",
       "      <td>...</td>\n",
       "    </tr>\n",
       "    <tr>\n",
       "      <th>970</th>\n",
       "      <td>832653</td>\n",
       "      <td>318</td>\n",
       "      <td>46</td>\n",
       "      <td>3.456522</td>\n",
       "      <td>0.538639</td>\n",
       "      <td>-2.873066</td>\n",
       "      <td>20.137106</td>\n",
       "      <td>3.999765e+05</td>\n",
       "    </tr>\n",
       "    <tr>\n",
       "      <th>971</th>\n",
       "      <td>2190690</td>\n",
       "      <td>353</td>\n",
       "      <td>86</td>\n",
       "      <td>2.052326</td>\n",
       "      <td>0.312246</td>\n",
       "      <td>-2.377037</td>\n",
       "      <td>18.966206</td>\n",
       "      <td>1.856301e+05</td>\n",
       "    </tr>\n",
       "    <tr>\n",
       "      <th>972</th>\n",
       "      <td>566046</td>\n",
       "      <td>355</td>\n",
       "      <td>62</td>\n",
       "      <td>2.862903</td>\n",
       "      <td>0.456807</td>\n",
       "      <td>-2.693770</td>\n",
       "      <td>19.377212</td>\n",
       "      <td>2.595354e+05</td>\n",
       "    </tr>\n",
       "    <tr>\n",
       "      <th>973</th>\n",
       "      <td>188335</td>\n",
       "      <td>413</td>\n",
       "      <td>87</td>\n",
       "      <td>2.373563</td>\n",
       "      <td>0.375401</td>\n",
       "      <td>-2.515409</td>\n",
       "      <td>19.140732</td>\n",
       "      <td>2.144017e+05</td>\n",
       "    </tr>\n",
       "    <tr>\n",
       "      <th>974</th>\n",
       "      <td>1614138</td>\n",
       "      <td>322</td>\n",
       "      <td>76</td>\n",
       "      <td>2.118421</td>\n",
       "      <td>0.326012</td>\n",
       "      <td>-2.407198</td>\n",
       "      <td>18.780224</td>\n",
       "      <td>1.727765e+05</td>\n",
       "    </tr>\n",
       "  </tbody>\n",
       "</table>\n",
       "<p>975 rows × 8 columns</p>\n",
       "</div>"
      ],
      "text/plain": [
       "          ID  count  count_zeros    period      logP         M          m  \\\n",
       "0    2434670    208           16  6.500000  0.812913 -3.474004  22.073319   \n",
       "1    2442608    252           13  9.692308  0.986427 -3.854174  22.119716   \n",
       "2    2443943    205           25  4.100000  0.612784 -3.035518  21.317328   \n",
       "3    2446727    179           10  8.950000  0.951823 -3.778356  13.865486   \n",
       "4    2447157    187           17  5.500000  0.740363 -3.315044  21.555355   \n",
       "..       ...    ...          ...       ...       ...       ...        ...   \n",
       "970   832653    318           46  3.456522  0.538639 -2.873066  20.137106   \n",
       "971  2190690    353           86  2.052326  0.312246 -2.377037  18.966206   \n",
       "972   566046    355           62  2.862903  0.456807 -2.693770  19.377212   \n",
       "973   188335    413           87  2.373563  0.375401 -2.515409  19.140732   \n",
       "974  1614138    322           76  2.118421  0.326012 -2.407198  18.780224   \n",
       "\n",
       "                d  \n",
       "0    1.286662e+06  \n",
       "1    1.565951e+06  \n",
       "2    7.422826e+05  \n",
       "3    3.378847e+04  \n",
       "4    9.420628e+05  \n",
       "..            ...  \n",
       "970  3.999765e+05  \n",
       "971  1.856301e+05  \n",
       "972  2.595354e+05  \n",
       "973  2.144017e+05  \n",
       "974  1.727765e+05  \n",
       "\n",
       "[975 rows x 8 columns]"
      ]
     },
     "execution_count": 7,
     "metadata": {},
     "output_type": "execute_result"
    },
    {
     "data": {
      "image/png": "[encoded data removed]",
      "text/plain": [
       "<Figure size 640x480 with 1 Axes>"
      ]
     },
     "metadata": {},
     "output_type": "display_data"
    }
   ],
   "source": [
    "data_grouped['m']=data2.groupby('ID', sort=False)['m'].mean().reset_index()['m']\n",
    "power=(data_grouped['m']-data_grouped['M']+5)/5\n",
    "data_grouped['d']=10**power\n",
    "data_grouped['d'].sort_values().reset_index().plot()\n",
    "data_grouped"
   ]
  },
  {
   "cell_type": "markdown",
   "metadata": {
    "id": "pJ_ERwSps2pD"
   },
   "source": [
    "Finally, find the distance to the galaxy being observed."
   ]
  },
  {
   "cell_type": "markdown",
   "metadata": {
    "id": "uIOdMPxFtTBs"
   },
   "source": [
    "There is a concentration of distances in the range 0.5 to 1.0 parsec"
   ]
  }
 ],
 "metadata": {
  "colab": {
   "provenance": [
    {
     "file_id": "1m2wgm3tIcLGn0bq23yVUyG-V5d-LF2m9",
     "timestamp": 1730212626120
    }
   ]
  },
  "kernelspec": {
   "display_name": "Python 3",
   "language": "python",
   "name": "python3"
  },
  "language_info": {
   "codemirror_mode": {
    "name": "ipython",
    "version": 3
   },
   "file_extension": ".py",
   "mimetype": "text/x-python",
   "name": "python",
   "nbconvert_exporter": "python",
   "pygments_lexer": "ipython3",
   "version": "3.12.1"
  }
 },
 "nbformat": 4,
 "nbformat_minor": 0
}
